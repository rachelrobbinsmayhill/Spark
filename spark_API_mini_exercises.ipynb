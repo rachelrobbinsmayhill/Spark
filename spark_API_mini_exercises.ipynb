{
 "cells": [
  {
   "cell_type": "markdown",
   "id": "591accf3-5e2e-4db9-a1fe-b168a336df9c",
   "metadata": {},
   "source": [
    "## Spark Mini Lesson"
   ]
  },
  {
   "cell_type": "code",
   "execution_count": 1,
   "id": "a0a77f97-97d0-4784-8458-1cb5b1e965c0",
   "metadata": {},
   "outputs": [],
   "source": [
    "import pandas as pd\n",
    "import numpy as np"
   ]
  },
  {
   "cell_type": "code",
   "execution_count": 2,
   "id": "68132bf4-b89d-499f-8ad4-9405fba80fd2",
   "metadata": {},
   "outputs": [],
   "source": [
    "np.random.seed(13)\n",
    "\n",
    "pandas_dataframe = pd.DataFrame(\n",
    "    {\n",
    "        \"n\": np.random.randn(20),\n",
    "        \"group\": np.random.choice(list(\"xyz\"), 20),\n",
    "        \"abool\": np.random.choice([True, False], 20),\n",
    "    }\n",
    ")"
   ]
  },
  {
   "cell_type": "markdown",
   "id": "d154da5d-aed7-40ec-bc96-98f28d0784eb",
   "metadata": {},
   "source": [
    "## 1. Spark Dataframe Basics\n",
    "\n",
    "### a. \n",
    "Use the starter code above to create a pandas dataframe."
   ]
  },
  {
   "cell_type": "code",
   "execution_count": 3,
   "id": "cb0850e7-fd29-428f-9ec1-48cde008fddd",
   "metadata": {},
   "outputs": [
    {
     "data": {
      "text/html": [
       "<div>\n",
       "<style scoped>\n",
       "    .dataframe tbody tr th:only-of-type {\n",
       "        vertical-align: middle;\n",
       "    }\n",
       "\n",
       "    .dataframe tbody tr th {\n",
       "        vertical-align: top;\n",
       "    }\n",
       "\n",
       "    .dataframe thead th {\n",
       "        text-align: right;\n",
       "    }\n",
       "</style>\n",
       "<table border=\"1\" class=\"dataframe\">\n",
       "  <thead>\n",
       "    <tr style=\"text-align: right;\">\n",
       "      <th></th>\n",
       "      <th>n</th>\n",
       "      <th>group</th>\n",
       "      <th>abool</th>\n",
       "    </tr>\n",
       "  </thead>\n",
       "  <tbody>\n",
       "    <tr>\n",
       "      <th>0</th>\n",
       "      <td>-0.712391</td>\n",
       "      <td>z</td>\n",
       "      <td>False</td>\n",
       "    </tr>\n",
       "    <tr>\n",
       "      <th>1</th>\n",
       "      <td>0.753766</td>\n",
       "      <td>x</td>\n",
       "      <td>False</td>\n",
       "    </tr>\n",
       "    <tr>\n",
       "      <th>2</th>\n",
       "      <td>-0.044503</td>\n",
       "      <td>z</td>\n",
       "      <td>False</td>\n",
       "    </tr>\n",
       "    <tr>\n",
       "      <th>3</th>\n",
       "      <td>0.451812</td>\n",
       "      <td>y</td>\n",
       "      <td>False</td>\n",
       "    </tr>\n",
       "    <tr>\n",
       "      <th>4</th>\n",
       "      <td>1.345102</td>\n",
       "      <td>z</td>\n",
       "      <td>False</td>\n",
       "    </tr>\n",
       "  </tbody>\n",
       "</table>\n",
       "</div>"
      ],
      "text/plain": [
       "          n group  abool\n",
       "0 -0.712391     z  False\n",
       "1  0.753766     x  False\n",
       "2 -0.044503     z  False\n",
       "3  0.451812     y  False\n",
       "4  1.345102     z  False"
      ]
     },
     "execution_count": 3,
     "metadata": {},
     "output_type": "execute_result"
    }
   ],
   "source": [
    "pandas_dataframe.head()"
   ]
  },
  {
   "cell_type": "markdown",
   "id": "77430a84-f7f1-4467-800d-667614db888d",
   "metadata": {},
   "source": [
    "### b. \n",
    "Convert the pandas dataframe to a spark dataframe. From this point forward, do all of your work with the spark dataframe, not the pandas dataframe."
   ]
  },
  {
   "cell_type": "code",
   "execution_count": 4,
   "id": "5fc45eca-cb43-4985-b531-130b6b3029de",
   "metadata": {},
   "outputs": [],
   "source": [
    "import pyspark"
   ]
  },
  {
   "cell_type": "code",
   "execution_count": 5,
   "id": "853dfa3a-aebc-4725-a771-f2687307d506",
   "metadata": {},
   "outputs": [
    {
     "name": "stderr",
     "output_type": "stream",
     "text": [
      "WARNING: An illegal reflective access operation has occurred\n",
      "WARNING: Illegal reflective access by org.apache.spark.unsafe.Platform (file:/usr/local/anaconda3/lib/python3.9/site-packages/pyspark/jars/spark-unsafe_2.12-3.2.1.jar) to constructor java.nio.DirectByteBuffer(long,int)\n",
      "WARNING: Please consider reporting this to the maintainers of org.apache.spark.unsafe.Platform\n",
      "WARNING: Use --illegal-access=warn to enable warnings of further illegal reflective access operations\n",
      "WARNING: All illegal access operations will be denied in a future release\n",
      "Using Spark's default log4j profile: org/apache/spark/log4j-defaults.properties\n",
      "Setting default log level to \"WARN\".\n",
      "To adjust logging level use sc.setLogLevel(newLevel). For SparkR, use setLogLevel(newLevel).\n",
      "22/05/19 09:50:21 WARN NativeCodeLoader: Unable to load native-hadoop library for your platform... using builtin-java classes where applicable\n",
      "22/05/19 09:50:22 WARN Utils: Service 'SparkUI' could not bind on port 4040. Attempting port 4041.\n"
     ]
    }
   ],
   "source": [
    "spark = pyspark.sql.SparkSession.builder.getOrCreate()"
   ]
  },
  {
   "cell_type": "code",
   "execution_count": 6,
   "id": "dccbb183-8b89-4358-a45a-01b7c323d1eb",
   "metadata": {},
   "outputs": [
    {
     "data": {
      "text/plain": [
       "DataFrame[n: double, group: string, abool: boolean]"
      ]
     },
     "execution_count": 6,
     "metadata": {},
     "output_type": "execute_result"
    }
   ],
   "source": [
    "# convert the pandas DF to a Spark dataframe\n",
    "df = spark.createDataFrame(pandas_dataframe)\n",
    "df"
   ]
  },
  {
   "cell_type": "markdown",
   "id": "33071d7d-4005-4f6b-af09-e7b1e67ab451",
   "metadata": {},
   "source": [
    "### c. \n",
    "Show the first 3 rows of the dataframe."
   ]
  },
  {
   "cell_type": "code",
   "execution_count": 7,
   "id": "4e71085f-1f9d-4aab-8499-d31b14a33278",
   "metadata": {},
   "outputs": [
    {
     "name": "stderr",
     "output_type": "stream",
     "text": [
      "[Stage 0:>                                                          (0 + 1) / 1]\r"
     ]
    },
    {
     "name": "stdout",
     "output_type": "stream",
     "text": [
      "+--------------------+-----+-----+\n",
      "|                   n|group|abool|\n",
      "+--------------------+-----+-----+\n",
      "|  -0.712390662050588|    z|false|\n",
      "|   0.753766378659703|    x|false|\n",
      "|-0.04450307833805...|    z|false|\n",
      "+--------------------+-----+-----+\n",
      "only showing top 3 rows\n",
      "\n"
     ]
    },
    {
     "name": "stderr",
     "output_type": "stream",
     "text": [
      "                                                                                \r"
     ]
    }
   ],
   "source": [
    "df.show(3)"
   ]
  },
  {
   "cell_type": "markdown",
   "id": "45008ea4-60b5-40de-834a-4f103d2be500",
   "metadata": {},
   "source": [
    "### d. \n",
    "Show the first 7 rows of the dataframe."
   ]
  },
  {
   "cell_type": "code",
   "execution_count": 8,
   "id": "442b8302-940c-4526-a73b-e7e5a328e1eb",
   "metadata": {},
   "outputs": [
    {
     "name": "stdout",
     "output_type": "stream",
     "text": [
      "+--------------------+-----+-----+\n",
      "|                   n|group|abool|\n",
      "+--------------------+-----+-----+\n",
      "|  -0.712390662050588|    z|false|\n",
      "|   0.753766378659703|    x|false|\n",
      "|-0.04450307833805...|    z|false|\n",
      "| 0.45181233874578974|    y|false|\n",
      "|  1.3451017084510097|    z|false|\n",
      "|  0.5323378882945463|    y|false|\n",
      "|  1.3501878997225267|    z|false|\n",
      "+--------------------+-----+-----+\n",
      "only showing top 7 rows\n",
      "\n"
     ]
    }
   ],
   "source": [
    "df.show(7)"
   ]
  },
  {
   "cell_type": "markdown",
   "id": "c1b39138-33e8-49bd-9e01-5efe974a1445",
   "metadata": {},
   "source": [
    "### e. \n",
    "What is the difference between .show and .head?"
   ]
  },
  {
   "cell_type": "code",
   "execution_count": 9,
   "id": "3be43ca1-26cb-41ce-9fc5-d9a2a22302bb",
   "metadata": {},
   "outputs": [
    {
     "name": "stdout",
     "output_type": "stream",
     "text": [
      "+------------------+-----+-----+\n",
      "|                 n|group|abool|\n",
      "+------------------+-----+-----+\n",
      "|-0.712390662050588|    z|false|\n",
      "| 0.753766378659703|    x|false|\n",
      "+------------------+-----+-----+\n",
      "only showing top 2 rows\n",
      "\n"
     ]
    }
   ],
   "source": [
    "df.show(2)"
   ]
  },
  {
   "cell_type": "code",
   "execution_count": 10,
   "id": "9cea6970-3b8b-45b4-8cdd-3d312dfd1d0f",
   "metadata": {},
   "outputs": [
    {
     "data": {
      "text/plain": [
       "[Row(n=-0.712390662050588, group='z', abool=False),\n",
       " Row(n=0.753766378659703, group='x', abool=False)]"
      ]
     },
     "execution_count": 10,
     "metadata": {},
     "output_type": "execute_result"
    }
   ],
   "source": [
    "df.head(2)"
   ]
  },
  {
   "cell_type": "markdown",
   "id": "92a6cafa-2dd7-4b88-82bf-88bc07701f5d",
   "metadata": {},
   "source": [
    "- .show() cannot be worked with programmatically. It literally only shows the request.\n",
    "- .head() CAN be worked with programmatically  "
   ]
  },
  {
   "cell_type": "markdown",
   "id": "d91f5e81-8225-4624-bcbd-d9a2ce1ed1e0",
   "metadata": {},
   "source": [
    "### f. \n",
    "View a summary of the data using .describe."
   ]
  },
  {
   "cell_type": "code",
   "execution_count": 11,
   "id": "d5fa4f86-1282-4586-92ac-79c2404b14c9",
   "metadata": {},
   "outputs": [
    {
     "data": {
      "text/plain": [
       "DataFrame[summary: string, n: string, group: string]"
      ]
     },
     "execution_count": 11,
     "metadata": {},
     "output_type": "execute_result"
    }
   ],
   "source": [
    "df.describe()"
   ]
  },
  {
   "cell_type": "code",
   "execution_count": 12,
   "id": "838d623d-7249-42db-8a7d-600ae6468de8",
   "metadata": {},
   "outputs": [
    {
     "name": "stdout",
     "output_type": "stream",
     "text": [
      "+-------+------------------+-----+\n",
      "|summary|                 n|group|\n",
      "+-------+------------------+-----+\n",
      "|  count|                20|   20|\n",
      "|   mean|0.3664026449885216| null|\n",
      "| stddev|0.8905322898155364| null|\n",
      "|    min|-1.261605945319069|    x|\n",
      "|    max|2.1503829673811126|    z|\n",
      "+-------+------------------+-----+\n",
      "\n"
     ]
    }
   ],
   "source": [
    "df.describe().show()"
   ]
  },
  {
   "cell_type": "markdown",
   "id": "3284d595-e5bd-4f24-9e75-e20e0bba4157",
   "metadata": {},
   "source": [
    "### g. \n",
    "Use .select to create a new dataframe with just the n and abool columns. View the first 5 rows of this dataframe."
   ]
  },
  {
   "cell_type": "code",
   "execution_count": 13,
   "id": "f135a57f-4568-4661-8b90-9b0400dbfa72",
   "metadata": {},
   "outputs": [
    {
     "name": "stdout",
     "output_type": "stream",
     "text": [
      "+--------------------+-----+\n",
      "|                   n|abool|\n",
      "+--------------------+-----+\n",
      "|  -0.712390662050588|false|\n",
      "|   0.753766378659703|false|\n",
      "|-0.04450307833805...|false|\n",
      "| 0.45181233874578974|false|\n",
      "|  1.3451017084510097|false|\n",
      "+--------------------+-----+\n",
      "only showing top 5 rows\n",
      "\n"
     ]
    }
   ],
   "source": [
    "df2 = df.select(df.n, df.abool)\n",
    "df2.show(5)"
   ]
  },
  {
   "cell_type": "markdown",
   "id": "d362d7d2-5320-422e-8ebe-10af5c1a543a",
   "metadata": {},
   "source": [
    "### h. \n",
    "Use .select to create a new dataframe with just the group and abool columns. View the first 5 rows of this dataframe."
   ]
  },
  {
   "cell_type": "code",
   "execution_count": 14,
   "id": "6e0d5f2c-deff-4684-be16-2caf022b697b",
   "metadata": {},
   "outputs": [
    {
     "name": "stdout",
     "output_type": "stream",
     "text": [
      "+-----+-----+\n",
      "|group|abool|\n",
      "+-----+-----+\n",
      "|    z|false|\n",
      "|    x|false|\n",
      "|    z|false|\n",
      "|    y|false|\n",
      "|    z|false|\n",
      "+-----+-----+\n",
      "only showing top 5 rows\n",
      "\n"
     ]
    }
   ],
   "source": [
    "df3 = df.select(df.group, df.abool)\n",
    "df3.show(5)"
   ]
  },
  {
   "cell_type": "markdown",
   "id": "893530e3-0e52-43f1-862b-303f497843dc",
   "metadata": {},
   "source": [
    "### i. \n",
    "Use .select to create a new dataframe with the group column and the abool column renamed to a_boolean_value. Show the first 3 rows of this dataframe."
   ]
  },
  {
   "cell_type": "code",
   "execution_count": 15,
   "id": "a5c79e17-347c-4872-9039-36fcf95e6fc7",
   "metadata": {},
   "outputs": [
    {
     "name": "stdout",
     "output_type": "stream",
     "text": [
      "+-----+---------------+\n",
      "|group|a_boolean_value|\n",
      "+-----+---------------+\n",
      "|    z|          false|\n",
      "|    x|          false|\n",
      "|    z|          false|\n",
      "|    y|          false|\n",
      "|    z|          false|\n",
      "+-----+---------------+\n",
      "only showing top 5 rows\n",
      "\n"
     ]
    }
   ],
   "source": [
    "df4 = df.select(df.group, df.abool.alias('a_boolean_value'))\n",
    "df4.show(5)"
   ]
  },
  {
   "cell_type": "markdown",
   "id": "ede12aaa-17fd-434e-b44d-f9cba1f6c0ae",
   "metadata": {},
   "source": [
    "### j. \n",
    "Use .select to create a new dataframe with the group column and the n column renamed to a_numeric_value. Show the first 6 rows of this dataframe."
   ]
  },
  {
   "cell_type": "code",
   "execution_count": 16,
   "id": "337c69ec-e321-4705-9a2b-09c6b67a1e84",
   "metadata": {},
   "outputs": [
    {
     "name": "stdout",
     "output_type": "stream",
     "text": [
      "+-----+--------------------+\n",
      "|group|     a_numeric_value|\n",
      "+-----+--------------------+\n",
      "|    z|  -0.712390662050588|\n",
      "|    x|   0.753766378659703|\n",
      "|    z|-0.04450307833805...|\n",
      "|    y| 0.45181233874578974|\n",
      "|    z|  1.3451017084510097|\n",
      "+-----+--------------------+\n",
      "only showing top 5 rows\n",
      "\n"
     ]
    }
   ],
   "source": [
    "df5 = df.select(df.group, df.n.alias('a_numeric_value'))\n",
    "df5.show(5)"
   ]
  },
  {
   "cell_type": "markdown",
   "id": "c8213bfe-172b-4d07-b7b0-f615fac228bb",
   "metadata": {},
   "source": [
    "## 2. Column Manipulation\n",
    "\n",
    "### a. \n",
    "Use the starter code above to re-create a spark dataframe. Store the spark dataframe in a varaible named df"
   ]
  },
  {
   "cell_type": "code",
   "execution_count": 17,
   "id": "9c4ec795-84e3-4337-a28a-97d96a4219e2",
   "metadata": {},
   "outputs": [
    {
     "name": "stdout",
     "output_type": "stream",
     "text": [
      "+--------------------+-----+-----+\n",
      "|                   n|group|abool|\n",
      "+--------------------+-----+-----+\n",
      "|  -0.712390662050588|    z|false|\n",
      "|   0.753766378659703|    x|false|\n",
      "|-0.04450307833805...|    z|false|\n",
      "| 0.45181233874578974|    y|false|\n",
      "|  1.3451017084510097|    z|false|\n",
      "+--------------------+-----+-----+\n",
      "only showing top 5 rows\n",
      "\n"
     ]
    }
   ],
   "source": [
    "# convert the pandas DF to a Spark dataframe\n",
    "df = spark.createDataFrame(pandas_dataframe)\n",
    "df.show(5)"
   ]
  },
  {
   "cell_type": "markdown",
   "id": "d3674815-1ae0-4cec-af25-c78c7d1041ea",
   "metadata": {},
   "source": [
    "### b. \n",
    "Use .select to add 4 to the n column. Show the results."
   ]
  },
  {
   "cell_type": "code",
   "execution_count": 18,
   "id": "2e78cb27-25d8-41b2-a7fa-e9cffa979016",
   "metadata": {},
   "outputs": [
    {
     "name": "stdout",
     "output_type": "stream",
     "text": [
      "+------------------+\n",
      "|           (n + 4)|\n",
      "+------------------+\n",
      "|3.2876093379494122|\n",
      "| 4.753766378659703|\n",
      "|3.9554969216619464|\n",
      "|  4.45181233874579|\n",
      "|5.3451017084510095|\n",
      "+------------------+\n",
      "only showing top 5 rows\n",
      "\n"
     ]
    }
   ],
   "source": [
    "df.select(df.n +4).show(5)"
   ]
  },
  {
   "cell_type": "markdown",
   "id": "6300ddc8-076e-4d87-8d98-9bf7bd4847e3",
   "metadata": {},
   "source": [
    "### c. \n",
    "Subtract 5 from the n column and view the results."
   ]
  },
  {
   "cell_type": "code",
   "execution_count": 19,
   "id": "1b9aa28c-977d-4b7c-b4df-887e077ebf98",
   "metadata": {},
   "outputs": [
    {
     "name": "stdout",
     "output_type": "stream",
     "text": [
      "+-------------------+\n",
      "|            (n - 5)|\n",
      "+-------------------+\n",
      "| -5.712390662050588|\n",
      "| -4.246233621340297|\n",
      "| -5.044503078338053|\n",
      "|  -4.54818766125421|\n",
      "|-3.6548982915489905|\n",
      "+-------------------+\n",
      "only showing top 5 rows\n",
      "\n"
     ]
    }
   ],
   "source": [
    "df.select(df.n -5 ).show(5)"
   ]
  },
  {
   "cell_type": "markdown",
   "id": "627235d3-2eb6-40ba-9ee2-5c4ae2e2956d",
   "metadata": {},
   "source": [
    "### d. \n",
    "Multiply the n column by 2. View the results along with the original numbers."
   ]
  },
  {
   "cell_type": "code",
   "execution_count": 20,
   "id": "3956dc85-4a68-4c8b-9ac1-c5bab3d129c0",
   "metadata": {},
   "outputs": [
    {
     "name": "stdout",
     "output_type": "stream",
     "text": [
      "+--------------------+\n",
      "|             (n * 2)|\n",
      "+--------------------+\n",
      "|  -1.424781324101176|\n",
      "|   1.507532757319406|\n",
      "|-0.08900615667610691|\n",
      "|  0.9036246774915795|\n",
      "|  2.6902034169020195|\n",
      "+--------------------+\n",
      "only showing top 5 rows\n",
      "\n"
     ]
    }
   ],
   "source": [
    "df.select(df.n * 2).show(5)"
   ]
  },
  {
   "cell_type": "markdown",
   "id": "7bc13864-dcc0-4b26-acf1-34603483cb0f",
   "metadata": {},
   "source": [
    "### e. \n",
    "Add a new column named n2 that is the n value multiplied by -1. Show the first 4 rows of your dataframe. You should see the original n value as well as n2."
   ]
  },
  {
   "cell_type": "code",
   "execution_count": 21,
   "id": "fefec991-5fd0-45a8-8a6d-ab1389abfa2d",
   "metadata": {},
   "outputs": [
    {
     "name": "stdout",
     "output_type": "stream",
     "text": [
      "+--------------------+--------------------+\n",
      "|                   n|                  n2|\n",
      "+--------------------+--------------------+\n",
      "|  -0.712390662050588|   0.712390662050588|\n",
      "|   0.753766378659703|  -0.753766378659703|\n",
      "|-0.04450307833805...|0.044503078338053455|\n",
      "| 0.45181233874578974|-0.45181233874578974|\n",
      "+--------------------+--------------------+\n",
      "only showing top 4 rows\n",
      "\n"
     ]
    }
   ],
   "source": [
    "col = (df.n * -1)\n",
    "df.select(df.n, col.alias('n2')).show(4)"
   ]
  },
  {
   "cell_type": "markdown",
   "id": "97bfa97c-919e-4ad2-a4bd-27f6e90cb81f",
   "metadata": {},
   "source": [
    "### f. \n",
    "Add a new column named n3 that is the n value squared. Show the first 5 rows of your dataframe. You should see both n, n2, and n3."
   ]
  },
  {
   "cell_type": "code",
   "execution_count": 22,
   "id": "840accb1-66df-4074-b152-c28e5957d750",
   "metadata": {},
   "outputs": [
    {
     "name": "stdout",
     "output_type": "stream",
     "text": [
      "+--------------------+--------------------+--------------------+\n",
      "|                   n|                  n2|                  n3|\n",
      "+--------------------+--------------------+--------------------+\n",
      "|  -0.712390662050588|   0.712390662050588|   0.507500455376875|\n",
      "|   0.753766378659703|  -0.753766378659703|  0.5681637535977627|\n",
      "|-0.04450307833805...|0.044503078338053455|0.001980523981562...|\n",
      "| 0.45181233874578974|-0.45181233874578974| 0.20413438944294027|\n",
      "+--------------------+--------------------+--------------------+\n",
      "only showing top 4 rows\n",
      "\n"
     ]
    }
   ],
   "source": [
    "col2 = (df.n ** 2)\n",
    "df.select(df.n, col.alias('n2'), col2.alias('n3')).show(4)"
   ]
  },
  {
   "cell_type": "markdown",
   "id": "c83aa5b7-7b9d-47bc-997d-f34435c62f48",
   "metadata": {},
   "source": [
    "### g. \n",
    "What happens when you run the code below?\n",
    "\n",
    "df.group + df.abool"
   ]
  },
  {
   "cell_type": "code",
   "execution_count": 23,
   "id": "2cf4635f-dd70-41a0-812d-34de254a9c73",
   "metadata": {},
   "outputs": [
    {
     "data": {
      "text/plain": [
       "Column<'(group + abool)'>"
      ]
     },
     "execution_count": 23,
     "metadata": {},
     "output_type": "execute_result"
    }
   ],
   "source": [
    "df.group + df.abool"
   ]
  },
  {
   "cell_type": "markdown",
   "id": "6b645728-6df4-451b-b749-992fbdae7b94",
   "metadata": {},
   "source": [
    "### h. \n",
    "What happens when you run the code below? What is the difference between this and the previous code sample?\n",
    "\n",
    "df.select(df.group + df.abool)"
   ]
  },
  {
   "cell_type": "markdown",
   "id": "a7d90b3c-8bc8-4892-9c86-548b7e499e77",
   "metadata": {},
   "source": [
    "- An error is created:\n",
    "\n",
    "\n",
    "    - cannot resolve '(CAST(group AS DOUBLE) + abool)' due to data type mismatch: differing types in '(CAST(group AS DOUBLE) + abool)' (double and boolean).;"
   ]
  },
  {
   "cell_type": "markdown",
   "id": "0af2fff5-0cff-4d8f-b4b6-41a8a26379a1",
   "metadata": {},
   "source": [
    "### i. \n",
    "Try adding various other columns together. What are the results of combining the different data types?"
   ]
  },
  {
   "cell_type": "code",
   "execution_count": 24,
   "id": "72042e9f-a98f-48cf-b17f-03eceb6e78b7",
   "metadata": {},
   "outputs": [
    {
     "name": "stdout",
     "output_type": "stream",
     "text": [
      "+-----------+\n",
      "|(n + group)|\n",
      "+-----------+\n",
      "|       null|\n",
      "|       null|\n",
      "|       null|\n",
      "|       null|\n",
      "|       null|\n",
      "+-----------+\n",
      "only showing top 5 rows\n",
      "\n"
     ]
    }
   ],
   "source": [
    "df6 = df.select(df.n + df.group)\n",
    "df6.show(5)"
   ]
  },
  {
   "cell_type": "markdown",
   "id": "43d5f848-39e8-4ac2-82f6-b090f675e15f",
   "metadata": {},
   "source": [
    "- adding double (int) and string results in null\n",
    "- adding double (int) and bool results in error\n",
    "- adding boolean and string results in error\n",
    "\n",
    "\n"
   ]
  },
  {
   "cell_type": "markdown",
   "id": "4fb2f3d2-b759-4f9b-ba80-094810253efb",
   "metadata": {},
   "source": [
    "---"
   ]
  },
  {
   "cell_type": "markdown",
   "id": "b5e0d6fa-a5e3-41b2-8502-590a2ec2a390",
   "metadata": {},
   "source": [
    "## 3. Type casting"
   ]
  },
  {
   "cell_type": "markdown",
   "id": "790f1661-65f8-44a8-847e-96b41422d14f",
   "metadata": {},
   "source": [
    "### a.\n",
    "Use the starter code above to re-create a spark dataframe."
   ]
  },
  {
   "cell_type": "code",
   "execution_count": 25,
   "id": "af57f6d4-c0a4-45cf-b704-343d11b1f425",
   "metadata": {},
   "outputs": [
    {
     "name": "stdout",
     "output_type": "stream",
     "text": [
      "+--------------------+-----+-----+\n",
      "|                   n|group|abool|\n",
      "+--------------------+-----+-----+\n",
      "|  -0.712390662050588|    z|false|\n",
      "|   0.753766378659703|    x|false|\n",
      "|-0.04450307833805...|    z|false|\n",
      "| 0.45181233874578974|    y|false|\n",
      "|  1.3451017084510097|    z|false|\n",
      "+--------------------+-----+-----+\n",
      "only showing top 5 rows\n",
      "\n"
     ]
    }
   ],
   "source": [
    "df.show(5)"
   ]
  },
  {
   "cell_type": "markdown",
   "id": "6aa0606c-fe9f-4cc0-bc88-a4351a6821a2",
   "metadata": {},
   "source": [
    "### b.\n",
    "Use .printSchema to view the datatypes in your dataframe."
   ]
  },
  {
   "cell_type": "code",
   "execution_count": 26,
   "id": "192f1485-fea2-41d6-9143-ee3c9ae626d0",
   "metadata": {},
   "outputs": [
    {
     "name": "stdout",
     "output_type": "stream",
     "text": [
      "root\n",
      " |-- n: double (nullable = true)\n",
      " |-- group: string (nullable = true)\n",
      " |-- abool: boolean (nullable = true)\n",
      "\n"
     ]
    }
   ],
   "source": [
    "df.printSchema()"
   ]
  },
  {
   "cell_type": "markdown",
   "id": "64ac0431-de6f-4cb3-823d-0419c45ad273",
   "metadata": {},
   "source": [
    "### c. \n",
    "Use .dtypes to view the datatypes in your dataframe."
   ]
  },
  {
   "cell_type": "code",
   "execution_count": 27,
   "id": "75bdd7ca-42ed-4853-bf26-46411346cd39",
   "metadata": {},
   "outputs": [
    {
     "data": {
      "text/plain": [
       "[('n', 'double'), ('group', 'string'), ('abool', 'boolean')]"
      ]
     },
     "execution_count": 27,
     "metadata": {},
     "output_type": "execute_result"
    }
   ],
   "source": [
    "df.dtypes"
   ]
  },
  {
   "cell_type": "markdown",
   "id": "e3db77cc-c5f2-4af7-8bf5-2e46dd41d65a",
   "metadata": {},
   "source": [
    "### d.\n",
    "What is the difference between the two code samples below?\n",
    "\n",
    "- df.abool.cast('int')\n",
    "- df.select(df.abool.cast('int')).show()"
   ]
  },
  {
   "cell_type": "code",
   "execution_count": 28,
   "id": "528ce472-ce28-4abb-a09b-f913a99e2b49",
   "metadata": {},
   "outputs": [
    {
     "data": {
      "text/plain": [
       "Column<'CAST(abool AS INT)'>"
      ]
     },
     "execution_count": 28,
     "metadata": {},
     "output_type": "execute_result"
    }
   ],
   "source": [
    "df.abool.cast('int')"
   ]
  },
  {
   "cell_type": "code",
   "execution_count": 29,
   "id": "cdc03d0b-d172-4115-ba78-e8d322dfb467",
   "metadata": {},
   "outputs": [
    {
     "name": "stdout",
     "output_type": "stream",
     "text": [
      "+-----+\n",
      "|abool|\n",
      "+-----+\n",
      "|    0|\n",
      "|    0|\n",
      "|    0|\n",
      "|    0|\n",
      "|    0|\n",
      "|    0|\n",
      "|    0|\n",
      "|    0|\n",
      "|    1|\n",
      "|    1|\n",
      "|    0|\n",
      "|    0|\n",
      "|    1|\n",
      "|    1|\n",
      "|    0|\n",
      "|    0|\n",
      "|    0|\n",
      "|    1|\n",
      "|    0|\n",
      "|    1|\n",
      "+-----+\n",
      "\n"
     ]
    }
   ],
   "source": [
    "df.select(df.abool.cast('int')).show()"
   ]
  },
  {
   "cell_type": "markdown",
   "id": "b85aed32-7777-4515-87f8-f025aec544ce",
   "metadata": {},
   "source": []
  },
  {
   "cell_type": "markdown",
   "id": "6ffc037d-f098-4376-bfb3-d984eb5b5c7a",
   "metadata": {},
   "source": [
    "### e.\n",
    "Use .select and .cast to convert the abool column to an integer type. View the results."
   ]
  },
  {
   "cell_type": "code",
   "execution_count": 30,
   "id": "071cec9b-bbc2-4b81-ab97-791d675b73c3",
   "metadata": {},
   "outputs": [
    {
     "name": "stdout",
     "output_type": "stream",
     "text": [
      "+-----+\n",
      "|abool|\n",
      "+-----+\n",
      "|    0|\n",
      "|    0|\n",
      "|    0|\n",
      "|    0|\n",
      "|    0|\n",
      "+-----+\n",
      "only showing top 5 rows\n",
      "\n"
     ]
    }
   ],
   "source": [
    "df.select(df.abool.cast('int')).show(5)"
   ]
  },
  {
   "cell_type": "markdown",
   "id": "22867df5-4769-48c5-b3c1-fa2fa145af8c",
   "metadata": {},
   "source": [
    "### f. \n",
    "Convert the group column to a integer data type and view the results. What happens?"
   ]
  },
  {
   "cell_type": "code",
   "execution_count": 31,
   "id": "ab55c001-cf4b-4880-b133-a5846ec5fd07",
   "metadata": {},
   "outputs": [
    {
     "name": "stdout",
     "output_type": "stream",
     "text": [
      "+-----+\n",
      "|group|\n",
      "+-----+\n",
      "| null|\n",
      "| null|\n",
      "| null|\n",
      "| null|\n",
      "| null|\n",
      "+-----+\n",
      "only showing top 5 rows\n",
      "\n"
     ]
    }
   ],
   "source": [
    "df.select(df.group.cast('int')).show(5)"
   ]
  },
  {
   "cell_type": "markdown",
   "id": "68916e4f-c85a-4c0c-aa2c-668d325ea19f",
   "metadata": {},
   "source": [
    "The contents are converted to null when a string is converted to an integer. "
   ]
  },
  {
   "cell_type": "markdown",
   "id": "bf5dd1c3-ce0f-4647-9305-77e242fb784a",
   "metadata": {},
   "source": [
    "### g. \n",
    "Convert the n column to a integer data type and view the results. What happens?"
   ]
  },
  {
   "cell_type": "code",
   "execution_count": 32,
   "id": "3f477070-0481-4624-89aa-c3f9f2d076fb",
   "metadata": {},
   "outputs": [
    {
     "name": "stdout",
     "output_type": "stream",
     "text": [
      "+---+\n",
      "|  n|\n",
      "+---+\n",
      "|  0|\n",
      "|  0|\n",
      "|  0|\n",
      "|  0|\n",
      "|  1|\n",
      "|  0|\n",
      "|  1|\n",
      "|  0|\n",
      "|  1|\n",
      "| -1|\n",
      "|  0|\n",
      "| -1|\n",
      "|  0|\n",
      "|  0|\n",
      "|  0|\n",
      "|  0|\n",
      "|  0|\n",
      "|  2|\n",
      "|  0|\n",
      "|  0|\n",
      "+---+\n",
      "\n"
     ]
    }
   ],
   "source": [
    "df.select(df.n.cast('int')).show(20)"
   ]
  },
  {
   "cell_type": "code",
   "execution_count": 33,
   "id": "c89b4021-964d-4380-a5db-9afe5a44851d",
   "metadata": {},
   "outputs": [
    {
     "name": "stdout",
     "output_type": "stream",
     "text": [
      "+--------------------+\n",
      "|                   n|\n",
      "+--------------------+\n",
      "|  -0.712390662050588|\n",
      "|   0.753766378659703|\n",
      "|-0.04450307833805...|\n",
      "| 0.45181233874578974|\n",
      "|  1.3451017084510097|\n",
      "|  0.5323378882945463|\n",
      "|  1.3501878997225267|\n",
      "|  0.8612113741693206|\n",
      "|  1.4786857374358966|\n",
      "| -1.0453771305385342|\n",
      "| -0.7889890249515489|\n",
      "|  -1.261605945319069|\n",
      "|  0.5628467852810314|\n",
      "|-0.24332625188556253|\n",
      "|  0.9137407048596775|\n",
      "| 0.31735092273633597|\n",
      "| 0.12730328020698067|\n",
      "|  2.1503829673811126|\n",
      "|  0.6062886568962988|\n",
      "|-0.02677164998644...|\n",
      "+--------------------+\n",
      "\n"
     ]
    }
   ],
   "source": [
    "df.select(df.n).show(20)"
   ]
  },
  {
   "cell_type": "markdown",
   "id": "79a13996-7b26-4949-85cc-13a0c5a35bf4",
   "metadata": {},
   "source": [
    "- When a decimal is converted to an integer, only the whole number remains (not rounded)"
   ]
  },
  {
   "cell_type": "markdown",
   "id": "9ffde025-5fe3-43f5-ab6b-126e105e10f9",
   "metadata": {},
   "source": [
    "### h.\n",
    "Convert the abool column to a string data type and view the results. What happens?"
   ]
  },
  {
   "cell_type": "code",
   "execution_count": 34,
   "id": "83d80938-475f-4e49-84c4-a8af07794d93",
   "metadata": {},
   "outputs": [
    {
     "name": "stdout",
     "output_type": "stream",
     "text": [
      "+-----+\n",
      "|abool|\n",
      "+-----+\n",
      "|false|\n",
      "|false|\n",
      "|false|\n",
      "|false|\n",
      "|false|\n",
      "|false|\n",
      "|false|\n",
      "|false|\n",
      "| true|\n",
      "| true|\n",
      "|false|\n",
      "|false|\n",
      "| true|\n",
      "| true|\n",
      "|false|\n",
      "|false|\n",
      "|false|\n",
      "| true|\n",
      "|false|\n",
      "| true|\n",
      "+-----+\n",
      "\n"
     ]
    }
   ],
   "source": [
    "df.select(df.abool.cast('string')).show(20)"
   ]
  },
  {
   "cell_type": "code",
   "execution_count": 35,
   "id": "839b1939-f53e-4c5a-9cbf-edc3c40da847",
   "metadata": {},
   "outputs": [
    {
     "name": "stdout",
     "output_type": "stream",
     "text": [
      "+-----+\n",
      "|abool|\n",
      "+-----+\n",
      "|false|\n",
      "|false|\n",
      "|false|\n",
      "|false|\n",
      "|false|\n",
      "|false|\n",
      "|false|\n",
      "|false|\n",
      "| true|\n",
      "| true|\n",
      "|false|\n",
      "|false|\n",
      "| true|\n",
      "| true|\n",
      "|false|\n",
      "|false|\n",
      "|false|\n",
      "| true|\n",
      "|false|\n",
      "| true|\n",
      "+-----+\n",
      "\n"
     ]
    }
   ],
   "source": [
    "df.select(df.abool).show(20)"
   ]
  },
  {
   "cell_type": "markdown",
   "id": "bd2093f5-d16d-46f0-aaee-f3ba8ed5d21f",
   "metadata": {},
   "source": [
    "- the boolean string value is still shown. There is no visual change. "
   ]
  },
  {
   "cell_type": "markdown",
   "id": "c4b1a781-f187-4151-825a-d2b25f93a25b",
   "metadata": {},
   "source": [
    "---"
   ]
  },
  {
   "cell_type": "markdown",
   "id": "3d0aa947-3d11-48f3-b494-edd787b711c8",
   "metadata": {},
   "source": [
    "## 4. Built-in Functions"
   ]
  },
  {
   "cell_type": "markdown",
   "id": "9f02748e-5aae-4935-878e-ebff7d5402c1",
   "metadata": {},
   "source": [
    "### a. \n",
    "Use the starter code above to re-create a spark dataframe."
   ]
  },
  {
   "cell_type": "code",
   "execution_count": 36,
   "id": "26e0acca-8835-4933-8ae0-f83f54b67c37",
   "metadata": {},
   "outputs": [
    {
     "name": "stdout",
     "output_type": "stream",
     "text": [
      "+--------------------+-----+-----+\n",
      "|                   n|group|abool|\n",
      "+--------------------+-----+-----+\n",
      "|  -0.712390662050588|    z|false|\n",
      "|   0.753766378659703|    x|false|\n",
      "|-0.04450307833805...|    z|false|\n",
      "| 0.45181233874578974|    y|false|\n",
      "|  1.3451017084510097|    z|false|\n",
      "+--------------------+-----+-----+\n",
      "only showing top 5 rows\n",
      "\n"
     ]
    }
   ],
   "source": [
    "df.show(5)"
   ]
  },
  {
   "cell_type": "markdown",
   "id": "7e1d905c-84fe-4fbe-911c-13ca739fc702",
   "metadata": {},
   "source": [
    "### b. \n",
    "Import the necessary functions from pyspark.sql.functions"
   ]
  },
  {
   "cell_type": "code",
   "execution_count": 37,
   "id": "0e1f5375-c5ae-4128-ab37-c2d4cb69bd0a",
   "metadata": {},
   "outputs": [],
   "source": [
    "from pyspark.sql.functions import *\n",
    "from pyspark.sql.functions import concat, sum, avg, min, max, count, mean"
   ]
  },
  {
   "cell_type": "code",
   "execution_count": 38,
   "id": "dacb4bd8-4ccb-421f-b8d3-de8f9942480a",
   "metadata": {},
   "outputs": [],
   "source": [
    "import pydataset\n",
    "import pyspark\n",
    "from pyspark.sql.functions import sum\n",
    "from builtins import sum\n",
    "import pyspark.sql.functions as F\n",
    "from pyspark.sql.functions import lit"
   ]
  },
  {
   "cell_type": "markdown",
   "id": "8e98d7ea-f275-4885-a9b9-59d4ada212e2",
   "metadata": {},
   "source": [
    "### c. \n",
    "Find the highest n value."
   ]
  },
  {
   "cell_type": "code",
   "execution_count": 39,
   "id": "7ed0d8e2-083d-484a-b0e6-846ac9f978c9",
   "metadata": {},
   "outputs": [
    {
     "name": "stdout",
     "output_type": "stream",
     "text": [
      "+------------------+\n",
      "|            max(n)|\n",
      "+------------------+\n",
      "|2.1503829673811126|\n",
      "+------------------+\n",
      "\n"
     ]
    }
   ],
   "source": [
    "df.select(max(df.n)).show()"
   ]
  },
  {
   "cell_type": "markdown",
   "id": "25b70805-6856-4584-ae7c-731af69eb4af",
   "metadata": {},
   "source": [
    "### d. \n",
    "Find the lowest n value."
   ]
  },
  {
   "cell_type": "code",
   "execution_count": 40,
   "id": "5585ff1b-2b77-47c7-86a4-000aa86902ff",
   "metadata": {},
   "outputs": [
    {
     "name": "stdout",
     "output_type": "stream",
     "text": [
      "+------------------+\n",
      "|            min(n)|\n",
      "+------------------+\n",
      "|-1.261605945319069|\n",
      "+------------------+\n",
      "\n"
     ]
    }
   ],
   "source": [
    "df.select(min(df.n)).show()"
   ]
  },
  {
   "cell_type": "markdown",
   "id": "5856f14d-09c5-4efb-adcc-47c4d88a8c90",
   "metadata": {},
   "source": [
    "### e. \n",
    "Find the average n value."
   ]
  },
  {
   "cell_type": "code",
   "execution_count": 41,
   "id": "b868e0f0-376b-4c4c-927b-6e20560da275",
   "metadata": {},
   "outputs": [
    {
     "name": "stdout",
     "output_type": "stream",
     "text": [
      "+------------------+\n",
      "|            avg(n)|\n",
      "+------------------+\n",
      "|0.3664026449885216|\n",
      "+------------------+\n",
      "\n"
     ]
    }
   ],
   "source": [
    "df.select(avg(df.n)).show()"
   ]
  },
  {
   "cell_type": "code",
   "execution_count": 42,
   "id": "0d6fb21d-3ffb-46be-82c1-43fa5fb0dd8d",
   "metadata": {},
   "outputs": [
    {
     "name": "stdout",
     "output_type": "stream",
     "text": [
      "+------------------+\n",
      "|            avg(n)|\n",
      "+------------------+\n",
      "|0.3664026449885216|\n",
      "+------------------+\n",
      "\n"
     ]
    }
   ],
   "source": [
    "df.select(mean(df.n)).show()"
   ]
  },
  {
   "cell_type": "code",
   "execution_count": 43,
   "id": "742630e8-dc95-4901-8090-fe8f5c89d50d",
   "metadata": {},
   "outputs": [
    {
     "name": "stdout",
     "output_type": "stream",
     "text": [
      "+------------------+\n",
      "|            avg(n)|\n",
      "+------------------+\n",
      "|0.3664026449885216|\n",
      "+------------------+\n",
      "\n"
     ]
    }
   ],
   "source": [
    "df.agg({ 'n': 'mean'}).show()"
   ]
  },
  {
   "cell_type": "markdown",
   "id": "5f82ad84-4262-4cd7-83ae-22d63165ed2e",
   "metadata": {},
   "source": [
    "### f. \n",
    "Use concat to change the group column to say, e.g. \"Group: x\" or \"Group: y\""
   ]
  },
  {
   "cell_type": "code",
   "execution_count": 44,
   "id": "c3f8c545-6927-4381-91a4-2dda6995cd92",
   "metadata": {},
   "outputs": [],
   "source": [
    "from pyspark.sql.functions import lit"
   ]
  },
  {
   "cell_type": "code",
   "execution_count": 45,
   "id": "7e1ebacc-fc07-4b38-8c38-7d2989a0ccf9",
   "metadata": {},
   "outputs": [
    {
     "name": "stdout",
     "output_type": "stream",
     "text": [
      "+----------------------+\n",
      "|concat(group: , group)|\n",
      "+----------------------+\n",
      "|              group: z|\n",
      "|              group: x|\n",
      "|              group: z|\n",
      "|              group: y|\n",
      "|              group: z|\n",
      "+----------------------+\n",
      "only showing top 5 rows\n",
      "\n"
     ]
    }
   ],
   "source": [
    "df.select(concat(lit('group: '), df.group)).show(5)"
   ]
  },
  {
   "cell_type": "markdown",
   "id": "6f6a6dc8-64b7-464a-a583-1f60747343d2",
   "metadata": {},
   "source": [
    "### g. \n",
    "Use concat to combine the n and group columns to produce results that look like this: \"x: -1.432\" or \"z: 2.352\""
   ]
  },
  {
   "cell_type": "code",
   "execution_count": 46,
   "id": "7e066273-6aad-4cf7-9ab9-ddd60a95a9b2",
   "metadata": {},
   "outputs": [
    {
     "name": "stdout",
     "output_type": "stream",
     "text": [
      "+------------------+-----+-----+\n",
      "|                 n|group|abool|\n",
      "+------------------+-----+-----+\n",
      "|-0.712390662050588|    z|false|\n",
      "| 0.753766378659703|    x|false|\n",
      "+------------------+-----+-----+\n",
      "only showing top 2 rows\n",
      "\n"
     ]
    }
   ],
   "source": [
    "df.show(2)"
   ]
  },
  {
   "cell_type": "code",
   "execution_count": 47,
   "id": "54c15173-3d35-4be0-b6c0-79ef70452285",
   "metadata": {},
   "outputs": [
    {
     "name": "stdout",
     "output_type": "stream",
     "text": [
      "+--------------------+\n",
      "|concat(group, : , n)|\n",
      "+--------------------+\n",
      "|z: -0.71239066205...|\n",
      "|x: 0.753766378659703|\n",
      "|z: -0.04450307833...|\n",
      "|y: 0.451812338745...|\n",
      "|z: 1.345101708451...|\n",
      "+--------------------+\n",
      "only showing top 5 rows\n",
      "\n"
     ]
    }
   ],
   "source": [
    "df.select(concat(df.group, lit(': '), df.n)).show(5)"
   ]
  },
  {
   "cell_type": "markdown",
   "id": "3c89e822-48c1-40a0-9543-ae1ca1c30444",
   "metadata": {},
   "source": [
    "---"
   ]
  },
  {
   "cell_type": "markdown",
   "id": "768ca3b5-22f8-4924-bc8c-44cf11f10f07",
   "metadata": {},
   "source": [
    "## 5. When / Otherwise"
   ]
  },
  {
   "cell_type": "code",
   "execution_count": 58,
   "id": "7e1dd174-3f67-4c84-8081-931713be6b95",
   "metadata": {},
   "outputs": [],
   "source": [
    "from pyspark.sql.functions import when"
   ]
  },
  {
   "cell_type": "markdown",
   "id": "e1ac6e30-2614-46ad-9a4e-2be90ab82a15",
   "metadata": {},
   "source": [
    "### a. \n",
    "Use the starter code above to re-create a spark dataframe."
   ]
  },
  {
   "cell_type": "code",
   "execution_count": 59,
   "id": "63517ffa-69a3-40fe-87fb-c4b5ead01fa1",
   "metadata": {},
   "outputs": [
    {
     "name": "stdout",
     "output_type": "stream",
     "text": [
      "+--------------------+-----+-----+\n",
      "|                   n|group|abool|\n",
      "+--------------------+-----+-----+\n",
      "|  -0.712390662050588|    z|false|\n",
      "|   0.753766378659703|    x|false|\n",
      "|-0.04450307833805...|    z|false|\n",
      "| 0.45181233874578974|    y|false|\n",
      "|  1.3451017084510097|    z|false|\n",
      "+--------------------+-----+-----+\n",
      "only showing top 5 rows\n",
      "\n"
     ]
    }
   ],
   "source": [
    "df.show(5)"
   ]
  },
  {
   "cell_type": "markdown",
   "id": "c644ad5b-e737-4b1e-a4ad-8034748f870d",
   "metadata": {},
   "source": [
    "### b.\n",
    "Use when and .otherwise to \n",
    "- create a column that contains the text \"It is true\" \n",
    "- when abool is true and \n",
    "- \"It is false\"\" \n",
    "- when abool is false."
   ]
  },
  {
   "cell_type": "code",
   "execution_count": 66,
   "id": "407bb71f-6298-473c-aab5-85c760679956",
   "metadata": {},
   "outputs": [
    {
     "name": "stdout",
     "output_type": "stream",
     "text": [
      "+-----+-------------+\n",
      "|abool|True of False|\n",
      "+-----+-------------+\n",
      "|false|  It is false|\n",
      "|false|  It is false|\n",
      "|false|  It is false|\n",
      "|false|  It is false|\n",
      "|false|  It is false|\n",
      "|false|  It is false|\n",
      "|false|  It is false|\n",
      "|false|  It is false|\n",
      "| true|   It is true|\n",
      "| true|   It is true|\n",
      "+-----+-------------+\n",
      "only showing top 10 rows\n",
      "\n"
     ]
    }
   ],
   "source": [
    "df.select(df.abool,\n",
    "          when(df.abool == True, lit('It is true'))\n",
    "          .otherwise('It is false')\n",
    "          .alias('True of False')\n",
    "          ).show(10)"
   ]
  },
  {
   "cell_type": "markdown",
   "id": "d4163a5b-c22d-42b3-9275-930a553e4baf",
   "metadata": {},
   "source": [
    "### c. \n",
    "- Create a column \n",
    "- that contains 0 if n is less than 0, \n",
    "- otherwise, the original n value."
   ]
  },
  {
   "cell_type": "code",
   "execution_count": 69,
   "id": "ad372089-3a0c-4b61-990b-6ecba3632c04",
   "metadata": {},
   "outputs": [
    {
     "name": "stdout",
     "output_type": "stream",
     "text": [
      "+--------------------+-------------------+\n",
      "|                   n|         Contains 0|\n",
      "+--------------------+-------------------+\n",
      "|  -0.712390662050588|                0.0|\n",
      "|   0.753766378659703|  0.753766378659703|\n",
      "|-0.04450307833805...|                0.0|\n",
      "| 0.45181233874578974|0.45181233874578974|\n",
      "|  1.3451017084510097| 1.3451017084510097|\n",
      "+--------------------+-------------------+\n",
      "only showing top 5 rows\n",
      "\n"
     ]
    }
   ],
   "source": [
    "df.select(df.n,\n",
    "          when(df.n < 0, 0)\n",
    "          .otherwise(df.n)\n",
    "          .alias('Contains 0')\n",
    "         ).show(5)"
   ]
  },
  {
   "cell_type": "markdown",
   "id": "a8325472-037a-498e-8daa-1d4b5ec51d28",
   "metadata": {},
   "source": [
    "---"
   ]
  },
  {
   "cell_type": "markdown",
   "id": "981a6c0d-0dd8-42dd-9b0d-246a4c654cf1",
   "metadata": {},
   "source": [
    "## 6. Filter / Where"
   ]
  },
  {
   "cell_type": "markdown",
   "id": "17500d3b-a3ac-4c22-b700-3e0b88b657b8",
   "metadata": {},
   "source": [
    "### a. \n",
    "Use the starter code above to re-create a spark dataframe."
   ]
  },
  {
   "cell_type": "code",
   "execution_count": 49,
   "id": "de624b75-b1b7-4e60-abb4-5b040faf8cf2",
   "metadata": {},
   "outputs": [
    {
     "name": "stdout",
     "output_type": "stream",
     "text": [
      "+--------------------+-----+-----+\n",
      "|                   n|group|abool|\n",
      "+--------------------+-----+-----+\n",
      "|  -0.712390662050588|    z|false|\n",
      "|   0.753766378659703|    x|false|\n",
      "|-0.04450307833805...|    z|false|\n",
      "| 0.45181233874578974|    y|false|\n",
      "|  1.3451017084510097|    z|false|\n",
      "+--------------------+-----+-----+\n",
      "only showing top 5 rows\n",
      "\n"
     ]
    }
   ],
   "source": [
    "df.show(5)"
   ]
  },
  {
   "cell_type": "markdown",
   "id": "3f963e3d-45db-44cb-bf1b-e2ced52506d6",
   "metadata": {},
   "source": [
    "### b.\n",
    "Use .filter or .where to select just the rows where the group is y and view the results."
   ]
  },
  {
   "cell_type": "code",
   "execution_count": 73,
   "id": "050b261c-0203-48da-a5db-76b06b2d2b7b",
   "metadata": {},
   "outputs": [
    {
     "name": "stdout",
     "output_type": "stream",
     "text": [
      "+-------------------+-----+-----+\n",
      "|                  n|group|abool|\n",
      "+-------------------+-----+-----+\n",
      "|0.45181233874578974|    y|false|\n",
      "| 0.5323378882945463|    y|false|\n",
      "|-1.0453771305385342|    y| true|\n",
      "| -1.261605945319069|    y|false|\n",
      "| 0.5628467852810314|    y| true|\n",
      "+-------------------+-----+-----+\n",
      "only showing top 5 rows\n",
      "\n"
     ]
    }
   ],
   "source": [
    "df.filter(df.group == 'y').show(5)"
   ]
  },
  {
   "cell_type": "code",
   "execution_count": 74,
   "id": "fbdb60a0-8f1c-4fee-825a-f4b4a69f2bec",
   "metadata": {},
   "outputs": [
    {
     "name": "stdout",
     "output_type": "stream",
     "text": [
      "+-------------------+-----+-----+\n",
      "|                  n|group|abool|\n",
      "+-------------------+-----+-----+\n",
      "|0.45181233874578974|    y|false|\n",
      "| 0.5323378882945463|    y|false|\n",
      "|-1.0453771305385342|    y| true|\n",
      "| -1.261605945319069|    y|false|\n",
      "| 0.5628467852810314|    y| true|\n",
      "+-------------------+-----+-----+\n",
      "only showing top 5 rows\n",
      "\n"
     ]
    }
   ],
   "source": [
    "df.where(df.group == 'y').show(5)"
   ]
  },
  {
   "cell_type": "markdown",
   "id": "31633098-74e5-4d82-ab9a-87f6d3526e25",
   "metadata": {},
   "source": [
    "### c. \n",
    "Select just the columns where the abool column is false and view the results."
   ]
  },
  {
   "cell_type": "code",
   "execution_count": 75,
   "id": "c15c73d8-8300-4e54-b3bf-e628d30a89f1",
   "metadata": {},
   "outputs": [
    {
     "name": "stdout",
     "output_type": "stream",
     "text": [
      "+--------------------+-----+-----+\n",
      "|                   n|group|abool|\n",
      "+--------------------+-----+-----+\n",
      "|  -0.712390662050588|    z|false|\n",
      "|   0.753766378659703|    x|false|\n",
      "|-0.04450307833805...|    z|false|\n",
      "| 0.45181233874578974|    y|false|\n",
      "|  1.3451017084510097|    z|false|\n",
      "+--------------------+-----+-----+\n",
      "only showing top 5 rows\n",
      "\n"
     ]
    }
   ],
   "source": [
    "df.filter(df.abool == False).show(5)"
   ]
  },
  {
   "cell_type": "code",
   "execution_count": 76,
   "id": "de295e36-d4cf-4c96-b7c6-19f0b41f7114",
   "metadata": {},
   "outputs": [
    {
     "name": "stdout",
     "output_type": "stream",
     "text": [
      "+--------------------+-----+-----+\n",
      "|                   n|group|abool|\n",
      "+--------------------+-----+-----+\n",
      "|  -0.712390662050588|    z|false|\n",
      "|   0.753766378659703|    x|false|\n",
      "|-0.04450307833805...|    z|false|\n",
      "| 0.45181233874578974|    y|false|\n",
      "|  1.3451017084510097|    z|false|\n",
      "+--------------------+-----+-----+\n",
      "only showing top 5 rows\n",
      "\n"
     ]
    }
   ],
   "source": [
    "df.where(df.abool == False).show(5)"
   ]
  },
  {
   "cell_type": "markdown",
   "id": "36d391af-7d7c-4348-94d6-0d036ab1a202",
   "metadata": {},
   "source": [
    "### d. \n",
    "Find the columns where the group column is not y."
   ]
  },
  {
   "cell_type": "code",
   "execution_count": 78,
   "id": "389fc8b0-8b97-4e71-9c40-5d9a91beadc7",
   "metadata": {},
   "outputs": [
    {
     "name": "stdout",
     "output_type": "stream",
     "text": [
      "+--------------------+-----+-----+\n",
      "|                   n|group|abool|\n",
      "+--------------------+-----+-----+\n",
      "|  -0.712390662050588|    z|false|\n",
      "|   0.753766378659703|    x|false|\n",
      "|-0.04450307833805...|    z|false|\n",
      "|  1.3451017084510097|    z|false|\n",
      "|  1.3501878997225267|    z|false|\n",
      "+--------------------+-----+-----+\n",
      "only showing top 5 rows\n",
      "\n"
     ]
    }
   ],
   "source": [
    "df.filter(df.group != 'y').show(5)"
   ]
  },
  {
   "cell_type": "code",
   "execution_count": 77,
   "id": "ff28e290-dfd9-40de-b0bd-5825b1101751",
   "metadata": {},
   "outputs": [
    {
     "name": "stdout",
     "output_type": "stream",
     "text": [
      "+--------------------+-----+-----+\n",
      "|                   n|group|abool|\n",
      "+--------------------+-----+-----+\n",
      "|  -0.712390662050588|    z|false|\n",
      "|   0.753766378659703|    x|false|\n",
      "|-0.04450307833805...|    z|false|\n",
      "|  1.3451017084510097|    z|false|\n",
      "|  1.3501878997225267|    z|false|\n",
      "+--------------------+-----+-----+\n",
      "only showing top 5 rows\n",
      "\n"
     ]
    }
   ],
   "source": [
    "df.where(df.group != 'y').show(5)"
   ]
  },
  {
   "cell_type": "markdown",
   "id": "892cbb7e-e384-430f-8d08-f3b85acb90f4",
   "metadata": {},
   "source": [
    "### e.\n",
    "Find the columns where n is positive."
   ]
  },
  {
   "cell_type": "code",
   "execution_count": 82,
   "id": "56d066d6-7a96-4c96-8cfe-623a13f20bb8",
   "metadata": {},
   "outputs": [
    {
     "name": "stdout",
     "output_type": "stream",
     "text": [
      "+-------------------+-----+-----+\n",
      "|                  n|group|abool|\n",
      "+-------------------+-----+-----+\n",
      "|  0.753766378659703|    x|false|\n",
      "|0.45181233874578974|    y|false|\n",
      "| 1.3451017084510097|    z|false|\n",
      "| 0.5323378882945463|    y|false|\n",
      "| 1.3501878997225267|    z|false|\n",
      "| 0.8612113741693206|    x|false|\n",
      "| 1.4786857374358966|    z| true|\n",
      "| 0.5628467852810314|    y| true|\n",
      "| 0.9137407048596775|    y|false|\n",
      "|0.31735092273633597|    x|false|\n",
      "+-------------------+-----+-----+\n",
      "only showing top 10 rows\n",
      "\n"
     ]
    }
   ],
   "source": [
    "df.filter(df.n > 0).show(10)\n",
    "# OR ---> df.where(df.n > 0).show(10)"
   ]
  },
  {
   "cell_type": "markdown",
   "id": "3ef35bf6-52da-470c-86ec-a8d46001f7af",
   "metadata": {},
   "source": [
    "### f.\n",
    "Find the columns where abool is true and the group column is z."
   ]
  },
  {
   "cell_type": "code",
   "execution_count": 85,
   "id": "6fd07e5a-2726-4e7a-b582-7f9d5ef842df",
   "metadata": {},
   "outputs": [
    {
     "name": "stdout",
     "output_type": "stream",
     "text": [
      "+------------------+-----+-----+\n",
      "|                 n|group|abool|\n",
      "+------------------+-----+-----+\n",
      "|1.4786857374358966|    z| true|\n",
      "+------------------+-----+-----+\n",
      "\n"
     ]
    }
   ],
   "source": [
    "df.filter((df.abool == True) & (df.group == 'z')).show(5)\n",
    "# OR ---> df.where"
   ]
  },
  {
   "cell_type": "markdown",
   "id": "12f11d56-d631-43c6-8d32-4ce64d081cb9",
   "metadata": {},
   "source": [
    "\n",
    "### g.\n",
    "Find the columns where abool is true or the group column is z."
   ]
  },
  {
   "cell_type": "code",
   "execution_count": 86,
   "id": "9edec6a4-86b1-4967-9f84-c985b58ea2de",
   "metadata": {},
   "outputs": [
    {
     "name": "stdout",
     "output_type": "stream",
     "text": [
      "+--------------------+-----+-----+\n",
      "|                   n|group|abool|\n",
      "+--------------------+-----+-----+\n",
      "|  -0.712390662050588|    z|false|\n",
      "|-0.04450307833805...|    z|false|\n",
      "|  1.3451017084510097|    z|false|\n",
      "|  1.3501878997225267|    z|false|\n",
      "|  1.4786857374358966|    z| true|\n",
      "+--------------------+-----+-----+\n",
      "only showing top 5 rows\n",
      "\n"
     ]
    }
   ],
   "source": [
    "df.filter((df.abool == True) | (df.group == 'z')).show(5)\n",
    "# OR ---> df.where"
   ]
  },
  {
   "cell_type": "markdown",
   "id": "cde9b61a-323f-4815-9faa-a859f02d3eff",
   "metadata": {},
   "source": [
    "### h.\n",
    "Find the columns where abool is false and n is less than 1"
   ]
  },
  {
   "cell_type": "code",
   "execution_count": 87,
   "id": "87092641-0517-47f5-bfda-7685b61414ca",
   "metadata": {},
   "outputs": [
    {
     "name": "stdout",
     "output_type": "stream",
     "text": [
      "+--------------------+-----+-----+\n",
      "|                   n|group|abool|\n",
      "+--------------------+-----+-----+\n",
      "|  -0.712390662050588|    z|false|\n",
      "|   0.753766378659703|    x|false|\n",
      "|-0.04450307833805...|    z|false|\n",
      "| 0.45181233874578974|    y|false|\n",
      "|  0.5323378882945463|    y|false|\n",
      "+--------------------+-----+-----+\n",
      "only showing top 5 rows\n",
      "\n"
     ]
    }
   ],
   "source": [
    "df.filter((df.abool == False) & (df.n < 1)).show(5)\n",
    "# OR ---> df.where"
   ]
  },
  {
   "cell_type": "markdown",
   "id": "864f8f5d-c560-4556-85ca-6b0ec8f634de",
   "metadata": {},
   "source": [
    "### i.\n",
    "Find the columns where abool is false or n is less than 1"
   ]
  },
  {
   "cell_type": "code",
   "execution_count": 88,
   "id": "fd192b54-1b18-41a4-b51e-73f02f8f547f",
   "metadata": {},
   "outputs": [
    {
     "name": "stdout",
     "output_type": "stream",
     "text": [
      "+--------------------+-----+-----+\n",
      "|                   n|group|abool|\n",
      "+--------------------+-----+-----+\n",
      "|  -0.712390662050588|    z|false|\n",
      "|   0.753766378659703|    x|false|\n",
      "|-0.04450307833805...|    z|false|\n",
      "| 0.45181233874578974|    y|false|\n",
      "|  1.3451017084510097|    z|false|\n",
      "+--------------------+-----+-----+\n",
      "only showing top 5 rows\n",
      "\n"
     ]
    }
   ],
   "source": [
    "df.filter((df.abool == False) | (df.n < 1)).show(5)\n",
    "# OR ---> df.where"
   ]
  },
  {
   "cell_type": "markdown",
   "id": "29481a4b-38c8-4a2f-a944-cade1b9960dd",
   "metadata": {},
   "source": [
    "---"
   ]
  },
  {
   "cell_type": "markdown",
   "id": "eff16308-2d6b-4fc6-b604-94257d89e50a",
   "metadata": {},
   "source": [
    "## 7. Sorting"
   ]
  },
  {
   "cell_type": "markdown",
   "id": "c6395220-720a-47b7-9691-3751fe9624c6",
   "metadata": {},
   "source": [
    "### a. \n",
    "Use the starter code above to re-create a spark dataframe."
   ]
  },
  {
   "cell_type": "code",
   "execution_count": 50,
   "id": "6f2967f5-e5e2-441a-bb0a-2203f37fbc5e",
   "metadata": {},
   "outputs": [
    {
     "name": "stdout",
     "output_type": "stream",
     "text": [
      "+--------------------+-----+-----+\n",
      "|                   n|group|abool|\n",
      "+--------------------+-----+-----+\n",
      "|  -0.712390662050588|    z|false|\n",
      "|   0.753766378659703|    x|false|\n",
      "|-0.04450307833805...|    z|false|\n",
      "| 0.45181233874578974|    y|false|\n",
      "|  1.3451017084510097|    z|false|\n",
      "+--------------------+-----+-----+\n",
      "only showing top 5 rows\n",
      "\n"
     ]
    }
   ],
   "source": [
    "df.show(5)"
   ]
  },
  {
   "cell_type": "markdown",
   "id": "0bed56d8-9e44-42c0-8ba6-dcefca6b2988",
   "metadata": {},
   "source": [
    "### b.\n",
    "Sort by the n value."
   ]
  },
  {
   "cell_type": "code",
   "execution_count": 89,
   "id": "cbaf8c12-5f3c-49b7-b0c5-add646edcf5a",
   "metadata": {},
   "outputs": [
    {
     "name": "stdout",
     "output_type": "stream",
     "text": [
      "+--------------------+-----+-----+\n",
      "|                   n|group|abool|\n",
      "+--------------------+-----+-----+\n",
      "|  -1.261605945319069|    y|false|\n",
      "| -1.0453771305385342|    y| true|\n",
      "| -0.7889890249515489|    x|false|\n",
      "|  -0.712390662050588|    z|false|\n",
      "|-0.24332625188556253|    y| true|\n",
      "+--------------------+-----+-----+\n",
      "only showing top 5 rows\n",
      "\n"
     ]
    }
   ],
   "source": [
    "df.sort(df.n).show(5)"
   ]
  },
  {
   "cell_type": "markdown",
   "id": "aa885ff6-e601-4b1a-8bbc-3c65e1c758c0",
   "metadata": {},
   "source": [
    "### c. \n",
    "Sort by the group value, both ascending and descending."
   ]
  },
  {
   "cell_type": "code",
   "execution_count": 90,
   "id": "6d270866-90e8-43ba-ad2c-4e4d9debce37",
   "metadata": {},
   "outputs": [],
   "source": [
    "from pyspark.sql.functions import asc, desc"
   ]
  },
  {
   "cell_type": "code",
   "execution_count": 91,
   "id": "34f6319b-e0b7-44b0-adcc-0a11a0bb79b8",
   "metadata": {},
   "outputs": [
    {
     "name": "stdout",
     "output_type": "stream",
     "text": [
      "+--------------------+-----+-----+\n",
      "|                   n|group|abool|\n",
      "+--------------------+-----+-----+\n",
      "|  0.8612113741693206|    x|false|\n",
      "|-0.02677164998644...|    x| true|\n",
      "| -0.7889890249515489|    x|false|\n",
      "|   0.753766378659703|    x|false|\n",
      "|  0.6062886568962988|    x|false|\n",
      "+--------------------+-----+-----+\n",
      "only showing top 5 rows\n",
      "\n"
     ]
    }
   ],
   "source": [
    "df.sort(df.group).show(5)"
   ]
  },
  {
   "cell_type": "code",
   "execution_count": 92,
   "id": "2b8218b6-efba-4e0a-b38a-3985b2f01f0c",
   "metadata": {},
   "outputs": [
    {
     "name": "stdout",
     "output_type": "stream",
     "text": [
      "+--------------------+-----+-----+\n",
      "|                   n|group|abool|\n",
      "+--------------------+-----+-----+\n",
      "|-0.04450307833805...|    z|false|\n",
      "|  -0.712390662050588|    z|false|\n",
      "| 0.12730328020698067|    z|false|\n",
      "|  1.4786857374358966|    z| true|\n",
      "|  1.3501878997225267|    z|false|\n",
      "+--------------------+-----+-----+\n",
      "only showing top 5 rows\n",
      "\n"
     ]
    }
   ],
   "source": [
    "df.sort(desc('group')).show(5)"
   ]
  },
  {
   "cell_type": "markdown",
   "id": "73527aad-613d-4d99-91fd-7c17bb2262d5",
   "metadata": {},
   "source": [
    "### d. \n",
    "Sort by the group value first, then, within each group, sort by n value."
   ]
  },
  {
   "cell_type": "code",
   "execution_count": 96,
   "id": "69c348e3-5bf9-4d5e-a492-7dceff3a2996",
   "metadata": {},
   "outputs": [
    {
     "name": "stdout",
     "output_type": "stream",
     "text": [
      "+--------------------+-----+-----+\n",
      "|                   n|group|abool|\n",
      "+--------------------+-----+-----+\n",
      "| -0.7889890249515489|    x|false|\n",
      "|-0.02677164998644...|    x| true|\n",
      "| 0.31735092273633597|    x|false|\n",
      "|  0.6062886568962988|    x|false|\n",
      "|   0.753766378659703|    x|false|\n",
      "|  0.8612113741693206|    x|false|\n",
      "|  -1.261605945319069|    y|false|\n",
      "| -1.0453771305385342|    y| true|\n",
      "|-0.24332625188556253|    y| true|\n",
      "| 0.45181233874578974|    y|false|\n",
      "|  0.5323378882945463|    y|false|\n",
      "|  0.5628467852810314|    y| true|\n",
      "|  0.9137407048596775|    y|false|\n",
      "|  2.1503829673811126|    y| true|\n",
      "|  -0.712390662050588|    z|false|\n",
      "|-0.04450307833805...|    z|false|\n",
      "| 0.12730328020698067|    z|false|\n",
      "|  1.3451017084510097|    z|false|\n",
      "|  1.3501878997225267|    z|false|\n",
      "|  1.4786857374358966|    z| true|\n",
      "+--------------------+-----+-----+\n",
      "\n"
     ]
    }
   ],
   "source": [
    "df.sort((df.group), df.n.asc()).show(20)"
   ]
  },
  {
   "cell_type": "markdown",
   "id": "058c0c20-95e8-42c0-933c-d99e4ca83c90",
   "metadata": {},
   "source": [
    "### e.\n",
    "Sort by abool, group, and n. Does it matter in what order you specify the columns when sorting?"
   ]
  },
  {
   "cell_type": "markdown",
   "id": "95b70c52-26b6-45cc-a829-90bff597b1aa",
   "metadata": {},
   "source": [
    "- It DOES matter which order yout specify the columns. They will sort in the order they are specified. "
   ]
  },
  {
   "cell_type": "code",
   "execution_count": 97,
   "id": "9efc751b-d8fe-4b5b-abbf-bc8850af205b",
   "metadata": {},
   "outputs": [
    {
     "name": "stdout",
     "output_type": "stream",
     "text": [
      "+--------------------+-----+-----+\n",
      "|                   n|group|abool|\n",
      "+--------------------+-----+-----+\n",
      "| -0.7889890249515489|    x|false|\n",
      "| 0.31735092273633597|    x|false|\n",
      "|  0.6062886568962988|    x|false|\n",
      "|   0.753766378659703|    x|false|\n",
      "|  0.8612113741693206|    x|false|\n",
      "|-0.02677164998644...|    x| true|\n",
      "|  -1.261605945319069|    y|false|\n",
      "| 0.45181233874578974|    y|false|\n",
      "|  0.5323378882945463|    y|false|\n",
      "|  0.9137407048596775|    y|false|\n",
      "+--------------------+-----+-----+\n",
      "only showing top 10 rows\n",
      "\n"
     ]
    }
   ],
   "source": [
    "df.sort(df.group, df.abool, df.n).show(10)"
   ]
  },
  {
   "cell_type": "code",
   "execution_count": 99,
   "id": "4e970b78-8189-4710-884a-08080d3c5b92",
   "metadata": {},
   "outputs": [
    {
     "name": "stdout",
     "output_type": "stream",
     "text": [
      "+--------------------+-----+-----+\n",
      "|                   n|group|abool|\n",
      "+--------------------+-----+-----+\n",
      "|  -1.261605945319069|    y|false|\n",
      "| -1.0453771305385342|    y| true|\n",
      "| -0.7889890249515489|    x|false|\n",
      "|  -0.712390662050588|    z|false|\n",
      "|-0.24332625188556253|    y| true|\n",
      "|-0.04450307833805...|    z|false|\n",
      "|-0.02677164998644...|    x| true|\n",
      "| 0.12730328020698067|    z|false|\n",
      "| 0.31735092273633597|    x|false|\n",
      "| 0.45181233874578974|    y|false|\n",
      "+--------------------+-----+-----+\n",
      "only showing top 10 rows\n",
      "\n"
     ]
    }
   ],
   "source": [
    "df.sort( df.n, df.group, df.abool).show(10)"
   ]
  },
  {
   "cell_type": "code",
   "execution_count": 100,
   "id": "e57a3f5a-b70d-4778-80e2-3b59bf4fdd46",
   "metadata": {},
   "outputs": [
    {
     "name": "stdout",
     "output_type": "stream",
     "text": [
      "+--------------------+-----+-----+\n",
      "|                   n|group|abool|\n",
      "+--------------------+-----+-----+\n",
      "|  -1.261605945319069|    y|false|\n",
      "| -0.7889890249515489|    x|false|\n",
      "|  -0.712390662050588|    z|false|\n",
      "|-0.04450307833805...|    z|false|\n",
      "| 0.12730328020698067|    z|false|\n",
      "| 0.31735092273633597|    x|false|\n",
      "| 0.45181233874578974|    y|false|\n",
      "|  0.5323378882945463|    y|false|\n",
      "|  0.6062886568962988|    x|false|\n",
      "|   0.753766378659703|    x|false|\n",
      "+--------------------+-----+-----+\n",
      "only showing top 10 rows\n",
      "\n"
     ]
    }
   ],
   "source": [
    "df.sort(df.abool, df.n, df.group).show(10)"
   ]
  },
  {
   "cell_type": "markdown",
   "id": "e6e4d18a-f091-4471-a34b-1c6c1e9f1cc2",
   "metadata": {},
   "source": [
    "---"
   ]
  },
  {
   "cell_type": "markdown",
   "id": "eb082682-6430-4e4b-aadf-d690f799c86b",
   "metadata": {},
   "source": [
    "## 8. Aggregating"
   ]
  },
  {
   "cell_type": "markdown",
   "id": "5ba083da-9a38-4719-bf8a-704cae1d160a",
   "metadata": {},
   "source": [
    "### a. \n",
    "What is the average n value for each group in the group column?"
   ]
  },
  {
   "cell_type": "code",
   "execution_count": 113,
   "id": "834f64e0-f6d0-4d0d-af0e-f49d798e7aec",
   "metadata": {},
   "outputs": [
    {
     "name": "stdout",
     "output_type": "stream",
     "text": [
      "+-----+------------------+\n",
      "|group|            avg(n)|\n",
      "+-----+------------------+\n",
      "|    z| 0.590730814237962|\n",
      "|    x|0.2871427762539448|\n",
      "|    y|0.2576014196023739|\n",
      "+-----+------------------+\n",
      "\n"
     ]
    }
   ],
   "source": [
    "df.groupBy('group').agg(avg(df.n)).show(3)"
   ]
  },
  {
   "cell_type": "markdown",
   "id": "c84c23fb-e6a0-43e0-9fce-5366c6c17796",
   "metadata": {},
   "source": [
    "### b.\n",
    "What is the maximum n value for each group in the group column?"
   ]
  },
  {
   "cell_type": "code",
   "execution_count": 112,
   "id": "7d341520-8b24-4a7e-b17b-cb29f3e1ce94",
   "metadata": {},
   "outputs": [
    {
     "name": "stdout",
     "output_type": "stream",
     "text": [
      "+-----+------------------+\n",
      "|group|            max(n)|\n",
      "+-----+------------------+\n",
      "|    z|1.4786857374358966|\n",
      "|    x|0.8612113741693206|\n",
      "|    y|2.1503829673811126|\n",
      "+-----+------------------+\n",
      "\n"
     ]
    }
   ],
   "source": [
    "df.groupby('group').agg(max(df.n)).show(3)"
   ]
  },
  {
   "cell_type": "markdown",
   "id": "a0d71b0a-8293-4728-ac60-faf110cf9dd3",
   "metadata": {},
   "source": [
    "### c. \n",
    "What is the minimum n value by abool?"
   ]
  },
  {
   "cell_type": "code",
   "execution_count": 114,
   "id": "5a39abc2-baaa-4313-803b-91acdaf7e3dd",
   "metadata": {},
   "outputs": [
    {
     "name": "stdout",
     "output_type": "stream",
     "text": [
      "+-----+-------------------+\n",
      "|abool|             min(n)|\n",
      "+-----+-------------------+\n",
      "|false| -1.261605945319069|\n",
      "| true|-1.0453771305385342|\n",
      "+-----+-------------------+\n",
      "\n"
     ]
    }
   ],
   "source": [
    "df.groupby('abool').agg(min('n')).show(2)"
   ]
  },
  {
   "cell_type": "markdown",
   "id": "1e7ee5a3-dfd9-43af-9ced-9040e4d48863",
   "metadata": {},
   "source": [
    "### d. \n",
    "What is the average n value for each unique combination of the group and abool column?"
   ]
  },
  {
   "cell_type": "code",
   "execution_count": 116,
   "id": "a879e3e4-b1be-4f4b-b73d-be520244bb5f",
   "metadata": {},
   "outputs": [
    {
     "name": "stdout",
     "output_type": "stream",
     "text": [
      "+-----+-----+--------------------+\n",
      "|group|abool|              avg(n)|\n",
      "+-----+-----+--------------------+\n",
      "|    z|false| 0.41313982959837514|\n",
      "|    x|false|  0.3499256615020219|\n",
      "|    y|false| 0.15907124664523611|\n",
      "|    y| true| 0.35613159255951177|\n",
      "|    z| true|  1.4786857374358966|\n",
      "|    x| true|-0.02677164998644...|\n",
      "+-----+-----+--------------------+\n",
      "\n"
     ]
    }
   ],
   "source": [
    "df.groupby('group', 'abool').agg(avg('n')).show()"
   ]
  },
  {
   "cell_type": "markdown",
   "id": "ce14f239-370f-47e7-b7f0-26434a9fa59d",
   "metadata": {},
   "source": [
    "---"
   ]
  },
  {
   "cell_type": "markdown",
   "id": "e16e4d46-6e3b-4dca-b25a-d7b9aa902f9f",
   "metadata": {},
   "source": [
    "## 9. Spark SQL"
   ]
  },
  {
   "cell_type": "markdown",
   "id": "5c4da5cd-31a4-4855-9238-2a026d11f9c9",
   "metadata": {},
   "source": [
    "### a. \n",
    "Use the starter code above to re-create a spark dataframe."
   ]
  },
  {
   "cell_type": "code",
   "execution_count": 51,
   "id": "5cd69852-67ac-45ad-a951-a4aa1e0703c3",
   "metadata": {},
   "outputs": [
    {
     "name": "stdout",
     "output_type": "stream",
     "text": [
      "+--------------------+-----+-----+\n",
      "|                   n|group|abool|\n",
      "+--------------------+-----+-----+\n",
      "|  -0.712390662050588|    z|false|\n",
      "|   0.753766378659703|    x|false|\n",
      "|-0.04450307833805...|    z|false|\n",
      "| 0.45181233874578974|    y|false|\n",
      "|  1.3451017084510097|    z|false|\n",
      "+--------------------+-----+-----+\n",
      "only showing top 5 rows\n",
      "\n"
     ]
    }
   ],
   "source": [
    "df.show(5)"
   ]
  },
  {
   "cell_type": "markdown",
   "id": "a8fd46df-fd7e-49fe-98d3-b9412b91b4c0",
   "metadata": {},
   "source": [
    "### b.\n",
    "Turn your dataframe into a table that can be queried with spark SQL. \n",
    "\n",
    "- Name the table my_df. \n",
    "\n",
    "- Answer the rest of the questions in this section with a spark sql query (spark.sql) against my_df. \n",
    "- After each step, view the first 7 records from the dataframe."
   ]
  },
  {
   "cell_type": "code",
   "execution_count": 125,
   "id": "eb2e2043-02b8-4d22-916b-c8c4679bad89",
   "metadata": {},
   "outputs": [],
   "source": [
    "df.createOrReplaceTempView(\"my_df\")"
   ]
  },
  {
   "cell_type": "markdown",
   "id": "7f8530d0-5414-42c5-8966-3f40c09fdee9",
   "metadata": {},
   "source": [
    "### c. \n",
    "What happens if you make a SQL syntax error in your query?"
   ]
  },
  {
   "cell_type": "code",
   "execution_count": 132,
   "id": "c9e76c65-a702-4e5f-b590-f93409164045",
   "metadata": {},
   "outputs": [
    {
     "ename": "AnalysisException",
     "evalue": "cannot resolve 'abol' given input columns: [my_df.abool, my_df.group, my_df.n]; line 2 pos 14;\n'Project [group#333, 'abol]\n+- SubqueryAlias my_df\n   +- View (`my_df`, [n#332,group#333,abool#334])\n      +- LogicalRDD [n#332, group#333, abool#334], false\n",
     "output_type": "error",
     "traceback": [
      "\u001b[0;31m---------------------------------------------------------------------------\u001b[0m",
      "\u001b[0;31mAnalysisException\u001b[0m                         Traceback (most recent call last)",
      "\u001b[0;32m/var/folders/jx/x5_xzwy107g6d0zd021r2ph40000gn/T/ipykernel_7241/1891874330.py\u001b[0m in \u001b[0;36m<module>\u001b[0;34m\u001b[0m\n\u001b[0;32m----> 1\u001b[0;31m spark.sql(\n\u001b[0m\u001b[1;32m      2\u001b[0m         \"\"\"\n\u001b[1;32m      3\u001b[0m \u001b[0mSELECT\u001b[0m \u001b[0mgroup\u001b[0m\u001b[0;34m,\u001b[0m \u001b[0mabol\u001b[0m\u001b[0;34m\u001b[0m\u001b[0;34m\u001b[0m\u001b[0m\n\u001b[1;32m      4\u001b[0m \u001b[0mFROM\u001b[0m \u001b[0mmy_df\u001b[0m\u001b[0;34m\u001b[0m\u001b[0;34m\u001b[0m\u001b[0m\n\u001b[1;32m      5\u001b[0m \"\"\"\n",
      "\u001b[0;32m/usr/local/anaconda3/lib/python3.9/site-packages/pyspark/sql/session.py\u001b[0m in \u001b[0;36msql\u001b[0;34m(self, sqlQuery)\u001b[0m\n\u001b[1;32m    721\u001b[0m         \u001b[0;34m[\u001b[0m\u001b[0mRow\u001b[0m\u001b[0;34m(\u001b[0m\u001b[0mf1\u001b[0m\u001b[0;34m=\u001b[0m\u001b[0;36m1\u001b[0m\u001b[0;34m,\u001b[0m \u001b[0mf2\u001b[0m\u001b[0;34m=\u001b[0m\u001b[0;34m'row1'\u001b[0m\u001b[0;34m)\u001b[0m\u001b[0;34m,\u001b[0m \u001b[0mRow\u001b[0m\u001b[0;34m(\u001b[0m\u001b[0mf1\u001b[0m\u001b[0;34m=\u001b[0m\u001b[0;36m2\u001b[0m\u001b[0;34m,\u001b[0m \u001b[0mf2\u001b[0m\u001b[0;34m=\u001b[0m\u001b[0;34m'row2'\u001b[0m\u001b[0;34m)\u001b[0m\u001b[0;34m,\u001b[0m \u001b[0mRow\u001b[0m\u001b[0;34m(\u001b[0m\u001b[0mf1\u001b[0m\u001b[0;34m=\u001b[0m\u001b[0;36m3\u001b[0m\u001b[0;34m,\u001b[0m \u001b[0mf2\u001b[0m\u001b[0;34m=\u001b[0m\u001b[0;34m'row3'\u001b[0m\u001b[0;34m)\u001b[0m\u001b[0;34m]\u001b[0m\u001b[0;34m\u001b[0m\u001b[0;34m\u001b[0m\u001b[0m\n\u001b[1;32m    722\u001b[0m         \"\"\"\n\u001b[0;32m--> 723\u001b[0;31m         \u001b[0;32mreturn\u001b[0m \u001b[0mDataFrame\u001b[0m\u001b[0;34m(\u001b[0m\u001b[0mself\u001b[0m\u001b[0;34m.\u001b[0m\u001b[0m_jsparkSession\u001b[0m\u001b[0;34m.\u001b[0m\u001b[0msql\u001b[0m\u001b[0;34m(\u001b[0m\u001b[0msqlQuery\u001b[0m\u001b[0;34m)\u001b[0m\u001b[0;34m,\u001b[0m \u001b[0mself\u001b[0m\u001b[0;34m.\u001b[0m\u001b[0m_wrapped\u001b[0m\u001b[0;34m)\u001b[0m\u001b[0;34m\u001b[0m\u001b[0;34m\u001b[0m\u001b[0m\n\u001b[0m\u001b[1;32m    724\u001b[0m \u001b[0;34m\u001b[0m\u001b[0m\n\u001b[1;32m    725\u001b[0m     \u001b[0;32mdef\u001b[0m \u001b[0mtable\u001b[0m\u001b[0;34m(\u001b[0m\u001b[0mself\u001b[0m\u001b[0;34m,\u001b[0m \u001b[0mtableName\u001b[0m\u001b[0;34m)\u001b[0m\u001b[0;34m:\u001b[0m\u001b[0;34m\u001b[0m\u001b[0;34m\u001b[0m\u001b[0m\n",
      "\u001b[0;32m/usr/local/anaconda3/lib/python3.9/site-packages/py4j/java_gateway.py\u001b[0m in \u001b[0;36m__call__\u001b[0;34m(self, *args)\u001b[0m\n\u001b[1;32m   1319\u001b[0m \u001b[0;34m\u001b[0m\u001b[0m\n\u001b[1;32m   1320\u001b[0m         \u001b[0manswer\u001b[0m \u001b[0;34m=\u001b[0m \u001b[0mself\u001b[0m\u001b[0;34m.\u001b[0m\u001b[0mgateway_client\u001b[0m\u001b[0;34m.\u001b[0m\u001b[0msend_command\u001b[0m\u001b[0;34m(\u001b[0m\u001b[0mcommand\u001b[0m\u001b[0;34m)\u001b[0m\u001b[0;34m\u001b[0m\u001b[0;34m\u001b[0m\u001b[0m\n\u001b[0;32m-> 1321\u001b[0;31m         return_value = get_return_value(\n\u001b[0m\u001b[1;32m   1322\u001b[0m             answer, self.gateway_client, self.target_id, self.name)\n\u001b[1;32m   1323\u001b[0m \u001b[0;34m\u001b[0m\u001b[0m\n",
      "\u001b[0;32m/usr/local/anaconda3/lib/python3.9/site-packages/pyspark/sql/utils.py\u001b[0m in \u001b[0;36mdeco\u001b[0;34m(*a, **kw)\u001b[0m\n\u001b[1;32m    115\u001b[0m                 \u001b[0;31m# Hide where the exception came from that shows a non-Pythonic\u001b[0m\u001b[0;34m\u001b[0m\u001b[0;34m\u001b[0m\u001b[0m\n\u001b[1;32m    116\u001b[0m                 \u001b[0;31m# JVM exception message.\u001b[0m\u001b[0;34m\u001b[0m\u001b[0;34m\u001b[0m\u001b[0m\n\u001b[0;32m--> 117\u001b[0;31m                 \u001b[0;32mraise\u001b[0m \u001b[0mconverted\u001b[0m \u001b[0;32mfrom\u001b[0m \u001b[0;32mNone\u001b[0m\u001b[0;34m\u001b[0m\u001b[0;34m\u001b[0m\u001b[0m\n\u001b[0m\u001b[1;32m    118\u001b[0m             \u001b[0;32melse\u001b[0m\u001b[0;34m:\u001b[0m\u001b[0;34m\u001b[0m\u001b[0;34m\u001b[0m\u001b[0m\n\u001b[1;32m    119\u001b[0m                 \u001b[0;32mraise\u001b[0m\u001b[0;34m\u001b[0m\u001b[0;34m\u001b[0m\u001b[0m\n",
      "\u001b[0;31mAnalysisException\u001b[0m: cannot resolve 'abol' given input columns: [my_df.abool, my_df.group, my_df.n]; line 2 pos 14;\n'Project [group#333, 'abol]\n+- SubqueryAlias my_df\n   +- View (`my_df`, [n#332,group#333,abool#334])\n      +- LogicalRDD [n#332, group#333, abool#334], false\n"
     ]
    }
   ],
   "source": [
    "spark.sql(\n",
    "        \"\"\"\n",
    "SELECT group, abol\n",
    "FROM my_df\n",
    "\"\"\"\n",
    ").show(7)"
   ]
  },
  {
   "cell_type": "markdown",
   "id": "471c6701-807f-45f3-a731-4010e5b86a2f",
   "metadata": {},
   "source": [
    "### d. \n",
    "Write a query that shows all of the columns from your dataframe."
   ]
  },
  {
   "cell_type": "code",
   "execution_count": 133,
   "id": "42bc8a39-7211-4ba8-b940-437005aa09d1",
   "metadata": {},
   "outputs": [
    {
     "name": "stdout",
     "output_type": "stream",
     "text": [
      "+--------------------+-----+-----+\n",
      "|                   n|group|abool|\n",
      "+--------------------+-----+-----+\n",
      "|  -0.712390662050588|    z|false|\n",
      "|   0.753766378659703|    x|false|\n",
      "|-0.04450307833805...|    z|false|\n",
      "| 0.45181233874578974|    y|false|\n",
      "|  1.3451017084510097|    z|false|\n",
      "|  0.5323378882945463|    y|false|\n",
      "|  1.3501878997225267|    z|false|\n",
      "+--------------------+-----+-----+\n",
      "only showing top 7 rows\n",
      "\n"
     ]
    }
   ],
   "source": [
    "spark.sql(\n",
    "    \"\"\"\n",
    "SELECT * \n",
    "FROM my_df\n",
    "\"\"\"\n",
    ").show(7)"
   ]
  },
  {
   "cell_type": "markdown",
   "id": "54629189-7979-4d90-bdb6-ab534a2f41b0",
   "metadata": {},
   "source": [
    "### e.\n",
    "Write a query that shows just the n and abool columns from the dataframe."
   ]
  },
  {
   "cell_type": "code",
   "execution_count": 134,
   "id": "f36f0c4f-13ab-4899-8749-c7c494e2104e",
   "metadata": {},
   "outputs": [
    {
     "name": "stdout",
     "output_type": "stream",
     "text": [
      "+--------------------+-----+\n",
      "|                   n|abool|\n",
      "+--------------------+-----+\n",
      "|  -0.712390662050588|false|\n",
      "|   0.753766378659703|false|\n",
      "|-0.04450307833805...|false|\n",
      "| 0.45181233874578974|false|\n",
      "|  1.3451017084510097|false|\n",
      "|  0.5323378882945463|false|\n",
      "|  1.3501878997225267|false|\n",
      "+--------------------+-----+\n",
      "only showing top 7 rows\n",
      "\n"
     ]
    }
   ],
   "source": [
    "spark.sql(\n",
    "    \"\"\"\n",
    "SELECT n, abool\n",
    "FROM my_df\n",
    "\"\"\"\n",
    ").show(7)"
   ]
  },
  {
   "cell_type": "markdown",
   "id": "18600f6e-84f9-4939-8c44-8ed6794bd48e",
   "metadata": {},
   "source": [
    "### f.\n",
    "Write a query that shows just the n and group columns. Rename the group column to g."
   ]
  },
  {
   "cell_type": "code",
   "execution_count": 135,
   "id": "06e09377-61d3-4c28-b01e-b6763be0e9db",
   "metadata": {},
   "outputs": [
    {
     "name": "stdout",
     "output_type": "stream",
     "text": [
      "+--------------------+---+\n",
      "|                   n|  g|\n",
      "+--------------------+---+\n",
      "|  -0.712390662050588|  z|\n",
      "|   0.753766378659703|  x|\n",
      "|-0.04450307833805...|  z|\n",
      "| 0.45181233874578974|  y|\n",
      "|  1.3451017084510097|  z|\n",
      "|  0.5323378882945463|  y|\n",
      "|  1.3501878997225267|  z|\n",
      "+--------------------+---+\n",
      "only showing top 7 rows\n",
      "\n"
     ]
    }
   ],
   "source": [
    "spark.sql(\n",
    "    \"\"\"\n",
    "SELECT n, group as g\n",
    "FROM my_df\n",
    "\"\"\"\n",
    ").show(7)\n"
   ]
  },
  {
   "cell_type": "markdown",
   "id": "8f0e11a9-2a97-4553-82e0-b7b115b65673",
   "metadata": {},
   "source": [
    "### g.\n",
    "Write a query that selects n, and creates two new columns: n2, the original n values halved, and n3: the original n values minus 1."
   ]
  },
  {
   "cell_type": "code",
   "execution_count": 137,
   "id": "98899294-9195-488e-ae78-4559ecef474e",
   "metadata": {},
   "outputs": [
    {
     "name": "stdout",
     "output_type": "stream",
     "text": [
      "+--------------------+--------------------+--------------------+\n",
      "|                   n|                  n2|                  n3|\n",
      "+--------------------+--------------------+--------------------+\n",
      "|  -0.712390662050588|  -0.356195331025294|  -1.712390662050588|\n",
      "|   0.753766378659703|  0.3768831893298515|-0.24623362134029703|\n",
      "|-0.04450307833805...|-0.02225153916902...| -1.0445030783380536|\n",
      "| 0.45181233874578974| 0.22590616937289487| -0.5481876612542103|\n",
      "|  1.3451017084510097|  0.6725508542255049| 0.34510170845100974|\n",
      "|  0.5323378882945463| 0.26616894414727316| -0.4676621117054537|\n",
      "|  1.3501878997225267|  0.6750939498612634| 0.35018789972252673|\n",
      "+--------------------+--------------------+--------------------+\n",
      "only showing top 7 rows\n",
      "\n"
     ]
    }
   ],
   "source": [
    "spark.sql(\n",
    "    \"\"\"\n",
    "SELECT n, \n",
    "       n / 2 as n2,\n",
    "       n - 1 as n3\n",
    "FROM my_df\n",
    "\"\"\"\n",
    ").show(7)"
   ]
  },
  {
   "cell_type": "markdown",
   "id": "6de02c61-3663-4dba-afe7-c753bddae908",
   "metadata": {},
   "source": [
    "===================================================================================================================================================================================================================="
   ]
  }
 ],
 "metadata": {
  "kernelspec": {
   "display_name": "Python 3 (ipykernel)",
   "language": "python",
   "name": "python3"
  },
  "language_info": {
   "codemirror_mode": {
    "name": "ipython",
    "version": 3
   },
   "file_extension": ".py",
   "mimetype": "text/x-python",
   "name": "python",
   "nbconvert_exporter": "python",
   "pygments_lexer": "ipython3",
   "version": "3.9.7"
  }
 },
 "nbformat": 4,
 "nbformat_minor": 5
}
